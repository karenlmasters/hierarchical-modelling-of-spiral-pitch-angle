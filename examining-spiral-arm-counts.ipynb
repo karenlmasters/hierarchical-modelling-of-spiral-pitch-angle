{
 "cells": [
  {
   "cell_type": "markdown",
   "id": "square-serum",
   "metadata": {},
   "source": [
    "# Examining the distribution of arm numbers in the sample"
   ]
  },
  {
   "cell_type": "code",
   "execution_count": 1,
   "id": "trying-ferry",
   "metadata": {},
   "outputs": [],
   "source": [
    "import pandas as pd\n",
    "import matplotlib.pyplot as plt"
   ]
  },
  {
   "cell_type": "code",
   "execution_count": 2,
   "id": "searching-price",
   "metadata": {},
   "outputs": [],
   "source": [
    "all_spiral_arms = pd.read_pickle('lib/spiral_arms.pickle')\n",
    "merged_arms = pd.read_pickle('lib/merged_arms.pickle')"
   ]
  },
  {
   "cell_type": "markdown",
   "id": "decimal-fifth",
   "metadata": {},
   "source": [
    "## Comparison between main and validation spiral arm count"
   ]
  },
  {
   "cell_type": "code",
   "execution_count": 3,
   "id": "accessible-stationery",
   "metadata": {},
   "outputs": [],
   "source": [
    "validation_indices = (\n",
    "    pd.read_csv('lib/duplicate_galaxies.csv')\n",
    "    .rename(columns={'0': 'main', '1': 'validation'})\n",
    ")"
   ]
  },
  {
   "cell_type": "markdown",
   "id": "adequate-republican",
   "metadata": {},
   "source": [
    "Let's compare the number of spiral arms we recovered for each validation galaxy to its equivalent in the main run"
   ]
  },
  {
   "cell_type": "code",
   "execution_count": 4,
   "id": "tamil-genome",
   "metadata": {},
   "outputs": [],
   "source": [
    "arm_counts = pd.DataFrame([], columns=('main', 'validation'))\n",
    "for _, row in validation_indices.iterrows():\n",
    "    n_main = len(all_spiral_arms.loc[int(row.main)].drop('pipeline').dropna())\n",
    "    n_validation = len(all_spiral_arms.loc[int(row.validation)].drop('pipeline').dropna())\n",
    "    arm_counts.loc[int(row.main)] = dict(main=n_main, validation=n_validation)"
   ]
  },
  {
   "cell_type": "markdown",
   "id": "maritime-assessment",
   "metadata": {},
   "source": [
    "We see that arm number is only identical for half of the galaxies, but generally the arm number is within one between the main and validation runs"
   ]
  },
  {
   "cell_type": "code",
   "execution_count": 5,
   "id": "peaceful-saudi",
   "metadata": {},
   "outputs": [
    {
     "data": {
      "text/html": [
       "<style  type=\"text/css\" >\n",
       "</style><table id=\"T_f6516_\" ><thead>    <tr>        <th class=\"blank level0\" ></th>        <th class=\"col_heading level0 col0\" >exact</th>        <th class=\"col_heading level0 col1\" >within_one</th>    </tr></thead><tbody>\n",
       "                <tr>\n",
       "                        <th id=\"T_f6516_level0_row0\" class=\"row_heading level0 row0\" >True</th>\n",
       "                        <td id=\"T_f6516_row0_col0\" class=\"data row0 col0\" >53.06%</td>\n",
       "                        <td id=\"T_f6516_row0_col1\" class=\"data row0 col1\" >92.86%</td>\n",
       "            </tr>\n",
       "            <tr>\n",
       "                        <th id=\"T_f6516_level0_row1\" class=\"row_heading level0 row1\" >False</th>\n",
       "                        <td id=\"T_f6516_row1_col0\" class=\"data row1 col0\" >46.94%</td>\n",
       "                        <td id=\"T_f6516_row1_col1\" class=\"data row1 col1\" >7.14%</td>\n",
       "            </tr>\n",
       "    </tbody></table>"
      ],
      "text/plain": [
       "<pandas.io.formats.style.Styler at 0x7fbf9064a250>"
      ]
     },
     "execution_count": 5,
     "metadata": {},
     "output_type": "execute_result"
    }
   ],
   "source": [
    "exact = (\n",
    "    arm_counts\n",
    "    .eval('main == validation')\n",
    "    .value_counts()\n",
    "    .pipe(lambda df: df/df.sum())\n",
    "    .rename('exact')\n",
    ")\n",
    "within_one = (\n",
    "    arm_counts\n",
    "    .eval('abs(main - validation) <= 1')\n",
    "    .value_counts()\n",
    "    .pipe(lambda df: df/df.sum())\n",
    "    .rename('within_one')\n",
    ")\n",
    "(\n",
    "    pd.concat((exact, within_one), axis=1)\n",
    "    .style.format(lambda v: f'{v:.2%}')\n",
    ")"
   ]
  },
  {
   "cell_type": "code",
   "execution_count": 7,
   "id": "approved-ballet",
   "metadata": {},
   "outputs": [
    {
     "data": {
      "text/plain": [
       "Text(0, 0.5, 'Number of arms in main run result')"
      ]
     },
     "execution_count": 7,
     "metadata": {},
     "output_type": "execute_result"
    },
    {
     "data": {
      "image/png": "[encoded data removed]",
      "text/plain": [
       "<Figure size 600x400 with 1 Axes>"
      ]
     },
     "metadata": {
      "needs_background": "light"
     },
     "output_type": "display_data"
    }
   ],
   "source": [
    "corr = arm_counts.groupby(['main', 'validation']).apply(len).astype(int).unstack().fillna(0)\n",
    "plt.figure(dpi=100)\n",
    "plt.imshow(corr.values)\n",
    "for i in range(len(corr.index)):\n",
    "    for j in range(len(corr.columns)):\n",
    "        color = \"w\" if corr.iat[i, j] < 20 else 'k'\n",
    "        text = plt.text(j, i, int(corr.iat[i, j]),\n",
    "                       ha=\"center\", va=\"center\", color=color)\n",
    "plt.xticks(corr.index);\n",
    "plt.yticks(corr.columns);\n",
    "plt.xlabel('Number of arms in validation result')\n",
    "plt.ylabel('Number of arms in main run result')"
   ]
  },
  {
   "cell_type": "markdown",
   "id": "bigger-stationery",
   "metadata": {},
   "source": [
    "We can see a spike at 0 and 2, and as expected often differ by one arm."
   ]
  },
  {
   "cell_type": "markdown",
   "id": "turkish-precipitation",
   "metadata": {},
   "source": [
    "## After merging main with validation results:"
   ]
  },
  {
   "cell_type": "code",
   "execution_count": null,
   "id": "favorite-minority",
   "metadata": {},
   "outputs": [],
   "source": [
    "unstacked_merged_arms = merged_arms.drop(columns=['pipeline']).unstack().dropna()\n",
    "total_points = unstacked_merged_arms.apply(lambda arm: len(arm.R)).sum()\n",
    "arm_number_distribution = (\n",
    "    merged_arms\n",
    "    .drop(columns=['pipeline'])\n",
    "    .apply(lambda row: len(row.dropna()), axis=1)\n",
    "    .value_counts()\n",
    "    .sort_index()\n",
    "    .rename('arm_count_frequency')\n",
    ")"
   ]
  },
  {
   "cell_type": "code",
   "execution_count": 48,
   "id": "formal-dallas",
   "metadata": {},
   "outputs": [
    {
     "name": "stdout",
     "output_type": "stream",
     "text": [
      "159 total galaxies, 129 of which with identified spiral arms\n",
      "247 total spiral arms\n",
      "238,433 total points\n",
      "----------------------------------------------------------------------\n",
      " 30  galaxies had 0 arm(s)\n",
      " 38  galaxies had 1 arm(s)\n",
      " 68  galaxies had 2 arm(s)\n",
      " 19  galaxies had 3 arm(s)\n",
      " 4   galaxies had 4 arm(s)\n"
     ]
    }
   ],
   "source": [
    "print('{:,} total galaxies, {:,} of which with identified spiral arms'.format(\n",
    "    len(merged_arms), len(merged_arms.drop(columns=['pipeline']).dropna(how='all'))\n",
    "))\n",
    "print(f'{len(unstacked_merged_arms):,} total spiral arms')\n",
    "print(f'{total_points:,} total points')\n",
    "print('-'*70)\n",
    "for k, v in arm_number_distribution.items():\n",
    "    print(f'{v:< 4} galaxies had {k} arm(s)')"
   ]
  }
 ],
 "metadata": {
  "kernelspec": {
   "display_name": "phd-work",
   "language": "python",
   "name": "phd-work"
  },
  "language_info": {
   "codemirror_mode": {
    "name": "ipython",
    "version": 3
   },
   "file_extension": ".py",
   "mimetype": "text/x-python",
   "name": "python",
   "nbconvert_exporter": "python",
   "pygments_lexer": "ipython3",
   "version": "3.7.9"
  }
 },
 "nbformat": 4,
 "nbformat_minor": 5
}
